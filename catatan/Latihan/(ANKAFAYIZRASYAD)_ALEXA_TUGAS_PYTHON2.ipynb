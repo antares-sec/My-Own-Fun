{
 "cells": [
  {
   "cell_type": "markdown",
   "metadata": {},
   "source": [
    "Soal 1 : Tulislah syntax (code) untuk menampilkan tulisan “Hello World!” (10 poin)"
   ]
  },
  {
   "cell_type": "code",
   "execution_count": 1,
   "metadata": {},
   "outputs": [
    {
     "name": "stdout",
     "output_type": "stream",
     "text": [
      "Hello World!\n"
     ]
    }
   ],
   "source": [
    "print(\"Hello World!\")"
   ]
  },
  {
   "cell_type": "markdown",
   "metadata": {},
   "source": [
    "Soal 2 : \n",
    "\n",
    "**print(“Alice’s Adventures’)** \n",
    "\n",
    "Perbaiki error pada kode di atas! (10 poin)\n",
    "\n",
    "\n",
    "# Penjelasan singkat: \n",
    "Kesalahan pada kode diatas adalah : tanda baca yang digunakan untuk menyatakan string. Pada python penggunaan “ ” dan ‘’ dianggap sama, tetapi sering terjadi kesalahan saat penggunaannya. Pada teks di atas (“Alice’s Adventures’) tanda baca yang kutip (“ ”) dianggap tidak memiliki pasangan atau kutip penutup. Sedangkan kutip (‘’) memiliki pembuka dan penutup, tetapi tidak menutupi keseluruhan dari teks. \n"
   ]
  },
  {
   "cell_type": "code",
   "execution_count": 2,
   "metadata": {},
   "outputs": [
    {
     "name": "stdout",
     "output_type": "stream",
     "text": [
      "Alice's Adventures\n"
     ]
    }
   ],
   "source": [
    "print(\"Alice's Adventures\")"
   ]
  },
  {
   "cell_type": "markdown",
   "metadata": {},
   "source": [
    "Soal 3 : Buatlah variabel bernama nama_peserta dan assign nilai berisikan nama kalian masing-masing! (10 poin)\n"
   ]
  },
  {
   "cell_type": "code",
   "execution_count": 3,
   "metadata": {},
   "outputs": [
    {
     "name": "stdout",
     "output_type": "stream",
     "text": [
      "anka fayiz\n"
     ]
    }
   ],
   "source": [
    "anka_fayiz_rasyad = \"Anka Fayiz Rasyad\"\n",
    "print(anka_fayiz_rasyad)"
   ]
  },
  {
   "cell_type": "markdown",
   "metadata": {},
   "source": [
    "Soal 4 : Buatlah dua variabel x dan y. Assign masing-masing variabel dengan nilai 20 dan 50. Buat variabel baru bernama z dan assign nilai x+y ke dalam variabel tersebut, lalu print nilai z! (10 poin)"
   ]
  },
  {
   "cell_type": "code",
   "execution_count": 4,
   "metadata": {},
   "outputs": [
    {
     "name": "stdout",
     "output_type": "stream",
     "text": [
      "70\n"
     ]
    }
   ],
   "source": [
    "x = 20\n",
    "y = 50\n",
    "\n",
    "# Define 'z' as a variable, then assign the value from addition between x+y\n",
    "z = x+y\n",
    "print(z)"
   ]
  },
  {
   "cell_type": "markdown",
   "metadata": {},
   "source": [
    "Soal 5 : Buatlah fungsi bernamakan get_max yang membutuhkan 3 parameter berupa bilangan bulat. Buatlah fungsi agar mereturn nilai maksimum dari 3 angka tersebut! (20 poin)\n",
    "\n",
    "# Test script:\n",
    "get_max(10, 20, 15)\n",
    "**hasilnya adalah 20**\n",
    "\n",
    "\n",
    "# Cara pertama"
   ]
  },
  {
   "cell_type": "code",
   "execution_count": 9,
   "metadata": {},
   "outputs": [
    {
     "name": "stdout",
     "output_type": "stream",
     "text": [
      "20\n"
     ]
    }
   ],
   "source": [
    "def get_max(x, y , z):\n",
    "    \"\"\" A function that will return a maximum number between 3 variable with a different values\"\"\"\n",
    "    max_value = x\n",
    "\n",
    "    if max_value > y:\n",
    "        if max_value > z:\n",
    "            max_value = max_value\n",
    "        else:\n",
    "            max_value = z\n",
    "    else:\n",
    "        max_value = y\n",
    "        if max_value > z:\n",
    "            max_value = max_value\n",
    "        else:\n",
    "            max_value = z\n",
    "    \n",
    "    return max_value\n",
    "\n",
    "\n",
    "# Testing Script\n",
    "print(get_max(10, 20, 15))"
   ]
  },
  {
   "cell_type": "markdown",
   "metadata": {},
   "source": [
    "# Cara kedua"
   ]
  },
  {
   "cell_type": "code",
   "execution_count": 13,
   "metadata": {},
   "outputs": [
    {
     "name": "stdout",
     "output_type": "stream",
     "text": [
      "4140\n"
     ]
    }
   ],
   "source": [
    "def get_max(x, y , z):\n",
    "    \"\"\" A function that will return a maximum number between 3 variable with a different values\"\"\"\n",
    "    max_number = [x, y, z]\n",
    "    return max(max_number)\n",
    "\n",
    "# Testing Script\n",
    "print(get_max(10, 20, 15))"
   ]
  },
  {
   "cell_type": "markdown",
   "metadata": {},
   "source": [
    "Soal 6 : Buatlah fungsi bernama strip_and_lower yang menerima parameter input berupa string. Buat agar fungsi tersebut dapat menghilangkan karakter spasi pada awal dan akhir string dan konversikan seluruh huruf dalam string tersebut menjadi lowercase. (Hint: gunakan strip() untuk menghilangkan spasi dan lower() untuk mengubah menjadi lowercase) (20 poin)\n",
    "\n",
    "## Test script:\n",
    "strip_and_lower(\" belaJaR PytHon  \")\n",
    "**hasilnya adalah \"belajar python\"**"
   ]
  },
  {
   "cell_type": "code",
   "execution_count": 17,
   "metadata": {},
   "outputs": [
    {
     "name": "stdout",
     "output_type": "stream",
     "text": [
      " belaJar PytHon \n",
      "belajar python\n"
     ]
    }
   ],
   "source": [
    "def strip_and_lower(text):\n",
    "    return text.strip().lower()\n",
    "\n",
    "text = \" belaJar PytHon \"\n",
    "print(text)\n",
    "print(strip_and_lower(text))"
   ]
  },
  {
   "cell_type": "markdown",
   "metadata": {},
   "source": [
    "Soal 7 : Buatlah fungsi bernama square_root yang menerima parameter input berupa nilai integer. Buat agar fungsi mereturn nilai akar dari input yang diberikan. (Hint: gunakan import math) (20 poin)\n",
    "Test script:\n",
    "square_root(16)\n",
    "**hasilnya adalah 4**\n",
    " \n",
    "\n",
    "# Cara Pertama"
   ]
  },
  {
   "cell_type": "code",
   "execution_count": 26,
   "metadata": {},
   "outputs": [
    {
     "name": "stdout",
     "output_type": "stream",
     "text": [
      "4\n"
     ]
    }
   ],
   "source": [
    "import math\n",
    "\n",
    "def square_root(x):\n",
    "    return int(math.sqrt(x))\n",
    "\n",
    "print(square_root(16))\n"
   ]
  },
  {
   "cell_type": "markdown",
   "metadata": {},
   "source": [
    "# Cara Kedua"
   ]
  },
  {
   "cell_type": "code",
   "execution_count": 29,
   "metadata": {},
   "outputs": [
    {
     "name": "stdout",
     "output_type": "stream",
     "text": [
      "4\n"
     ]
    }
   ],
   "source": [
    "def square_root(x):\n",
    "    \"\"\" \n",
    "    Returning a square root value of x \n",
    "    \n",
    "    The formula is : \n",
    "        f(x) = x^1/n\n",
    "        \n",
    "        f(x) = function\n",
    "        x = value\n",
    "        ^ = exponent symbol\n",
    "        n = square root number (if n = 2)\n",
    "    \"\"\"\n",
    "    return int(x**(1/2))\n",
    "\n",
    "print(square_root(16))"
   ]
  }
 ],
 "metadata": {
  "kernelspec": {
   "display_name": "env",
   "language": "python",
   "name": "python3"
  },
  "language_info": {
   "codemirror_mode": {
    "name": "ipython",
    "version": 3
   },
   "file_extension": ".py",
   "mimetype": "text/x-python",
   "name": "python",
   "nbconvert_exporter": "python",
   "pygments_lexer": "ipython3",
   "version": "3.12.3"
  }
 },
 "nbformat": 4,
 "nbformat_minor": 2
}
