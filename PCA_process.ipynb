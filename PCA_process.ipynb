{
 "cells": [
  {
   "cell_type": "markdown",
   "metadata": {},
   "source": [
    "# Penjelasan kode : \n",
    "\"**!pip install**\" digunakan untuk melakukan penginstallan module yang akan digunakan untuk setiap program python yang akan dibuat.\n",
    "\n",
    "\n",
    "# Modules : \n",
    "1. pandas -> Digunakan untuk membuat dataframe, menganalisis sebuah dataframe (.csv dan .xlsx)\n",
    "2. numpy -> Digunakan untuk melakukan proses matematika. (cth : median, mean, modus).\n",
    "3. scikit-learn -> Berisikan banyak algoritma yang dapat digunakan untuk setiap model yang akan dibuat atau analisis yang ingin dilakukan.\n",
    "4. matplotlib -> Visualisasi Data"
   ]
  },
  {
   "cell_type": "code",
   "execution_count": null,
   "metadata": {},
   "outputs": [],
   "source": [
    "!pip install pandas numpy scikit-learn matplotlib"
   ]
  },
  {
   "cell_type": "markdown",
   "metadata": {},
   "source": [
    "# Import library yang akan digunakan"
   ]
  },
  {
   "cell_type": "code",
   "execution_count": null,
   "metadata": {},
   "outputs": [],
   "source": [
    "import pandas as pd\n",
    "import numpy as np\n",
    "from sklearn.decomposition import PCA\n",
    "from sklearn.preprocessing import StandardScaler\n",
    "import matplotlib.pyplot as plt"
   ]
  },
  {
   "cell_type": "markdown",
   "metadata": {},
   "source": [
    "# Melakukan load data menggunakan library pandas\n",
    "\n",
    "**NOTE**: \n",
    "1. Contoh dibawah menggunakan file berekstensi (.xlsx), maka fungsi yang digunakan adalah **pd.read_excel()**\n",
    "2. Apabila menggunakan (.csv), maka fungsi yang digunakan **pd.read_csv()**"
   ]
  },
  {
   "cell_type": "code",
   "execution_count": null,
   "metadata": {},
   "outputs": [],
   "source": [
    "file_path = 'path_to_your_data/Output.xlsx'  # Ganti dengan path file EEG Anda\n",
    "eeg_data = pd.read_excel(file_path, sheet_name=\"Sheet1\")  # Sesuaikan nama sheet jika diperlukan"
   ]
  },
  {
   "cell_type": "markdown",
   "metadata": {},
   "source": [
    "# Tentukan kolom gelombang EEG yang ingin dianalisis (contoh: delta, theta, alpha, beta, gamma)"
   ]
  },
  {
   "cell_type": "code",
   "execution_count": null,
   "metadata": {},
   "outputs": [],
   "source": [
    "eeg_columns = ['Delta', 'Theta', 'Low-Alpha', 'High-Alpha', 'Low-Beta', 'High-Beta', 'Low-Gamma', 'Mid-Gamma']"
   ]
  },
  {
   "cell_type": "markdown",
   "metadata": {},
   "source": [
    "# Ekstrak data EEG dari kolom yang relevan\n",
    "\n",
    "## Apabila perintah dibawah dijalankan, maka akan menghasilkan nilai dari kolom yang telah didefinisikan diatas"
   ]
  },
  {
   "cell_type": "code",
   "execution_count": null,
   "metadata": {},
   "outputs": [],
   "source": [
    "eeg_values = eeg_data[eeg_columns].values"
   ]
  },
  {
   "cell_type": "markdown",
   "metadata": {},
   "source": [
    "# Standardisasi data (normalisasi agar tiap gelombang memiliki skala yang sama)\n",
    "\n",
    "## Proses melakukan standarisasi setiap nilai/value yang ada pada setiap kolom dalam table"
   ]
  },
  {
   "cell_type": "code",
   "execution_count": null,
   "metadata": {},
   "outputs": [],
   "source": [
    "scaler = StandardScaler()\n",
    "eeg_values_scaled = scaler.fit_transform(eeg_values)"
   ]
  },
  {
   "cell_type": "markdown",
   "metadata": {},
   "source": [
    "# Terapkan PCA untuk mereduksi dimensi"
   ]
  },
  {
   "cell_type": "code",
   "execution_count": null,
   "metadata": {},
   "outputs": [],
   "source": [
    "pca = PCA(n_components=0.95)  # Pilih komponen yang menjelaskan 95% variansi\n",
    "eeg_pca = pca.fit_transform(eeg_values_scaled)"
   ]
  },
  {
   "cell_type": "markdown",
   "metadata": {},
   "source": [
    "# Tampilkan hasil PCA"
   ]
  },
  {
   "cell_type": "code",
   "execution_count": null,
   "metadata": {},
   "outputs": [],
   "source": [
    "explained_variance = pca.explained_variance_ratio_\n",
    "cumulative_variance = np.cumsum(explained_variance)"
   ]
  },
  {
   "cell_type": "markdown",
   "metadata": {},
   "source": [
    "# Visualisasi Varians Kumulatif yang Dijelaskan oleh PCA"
   ]
  },
  {
   "cell_type": "code",
   "execution_count": null,
   "metadata": {},
   "outputs": [],
   "source": [
    "plt.figure(figsize=(8, 6))\n",
    "plt.plot(cumulative_variance, marker='o', color='b')\n",
    "plt.title('Cumulative Variance Explained by PCA Components')\n",
    "plt.xlabel('Number of Principal Components')\n",
    "plt.ylabel('Cumulative Variance Explained')\n",
    "plt.grid(True)\n",
    "plt.show()"
   ]
  },
  {
   "cell_type": "markdown",
   "metadata": {},
   "source": [
    "# Cetak jumlah komponen utama yang dipilih dan varians yang dijelaskan oleh tiap komponen"
   ]
  },
  {
   "cell_type": "code",
   "execution_count": null,
   "metadata": {},
   "outputs": [],
   "source": [
    "print(f'Jumlah komponen utama yang dipilih: {pca.n_components_}')\n",
    "print(f'Varians yang dijelaskan oleh tiap komponen utama: {explained_variance}')"
   ]
  }
 ],
 "metadata": {
  "kernelspec": {
   "display_name": "Python 3",
   "language": "python",
   "name": "python3"
  },
  "language_info": {
   "name": "python",
   "version": "3.12.3"
  }
 },
 "nbformat": 4,
 "nbformat_minor": 2
}
