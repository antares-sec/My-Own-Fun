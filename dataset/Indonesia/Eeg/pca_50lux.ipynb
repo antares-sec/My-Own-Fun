{
 "cells": [
  {
   "cell_type": "code",
   "execution_count": 145,
   "id": "54f8e88c-a38c-44b3-952e-4a357dcb4183",
   "metadata": {},
   "outputs": [
    {
     "name": "stdout",
     "output_type": "stream",
     "text": [
      "Requirement already satisfied: pandas in /home/antares/Documents/anka/Job/Hidup/MachineLearning/env/lib/python3.12/site-packages (2.2.2)\n",
      "Requirement already satisfied: numpy in /home/antares/Documents/anka/Job/Hidup/MachineLearning/env/lib/python3.12/site-packages (2.1.1)\n",
      "Requirement already satisfied: scikit-learn in /home/antares/Documents/anka/Job/Hidup/MachineLearning/env/lib/python3.12/site-packages (1.5.1)\n",
      "Requirement already satisfied: matplotlib in /home/antares/Documents/anka/Job/Hidup/MachineLearning/env/lib/python3.12/site-packages (3.9.2)\n",
      "Requirement already satisfied: python-dateutil>=2.8.2 in /home/antares/Documents/anka/Job/Hidup/MachineLearning/env/lib/python3.12/site-packages (from pandas) (2.9.0.post0)\n",
      "Requirement already satisfied: pytz>=2020.1 in /home/antares/Documents/anka/Job/Hidup/MachineLearning/env/lib/python3.12/site-packages (from pandas) (2024.1)\n",
      "Requirement already satisfied: tzdata>=2022.7 in /home/antares/Documents/anka/Job/Hidup/MachineLearning/env/lib/python3.12/site-packages (from pandas) (2024.1)\n",
      "Requirement already satisfied: scipy>=1.6.0 in /home/antares/Documents/anka/Job/Hidup/MachineLearning/env/lib/python3.12/site-packages (from scikit-learn) (1.14.1)\n",
      "Requirement already satisfied: joblib>=1.2.0 in /home/antares/Documents/anka/Job/Hidup/MachineLearning/env/lib/python3.12/site-packages (from scikit-learn) (1.4.2)\n",
      "Requirement already satisfied: threadpoolctl>=3.1.0 in /home/antares/Documents/anka/Job/Hidup/MachineLearning/env/lib/python3.12/site-packages (from scikit-learn) (3.5.0)\n",
      "Requirement already satisfied: contourpy>=1.0.1 in /home/antares/Documents/anka/Job/Hidup/MachineLearning/env/lib/python3.12/site-packages (from matplotlib) (1.3.0)\n",
      "Requirement already satisfied: cycler>=0.10 in /home/antares/Documents/anka/Job/Hidup/MachineLearning/env/lib/python3.12/site-packages (from matplotlib) (0.12.1)\n",
      "Requirement already satisfied: fonttools>=4.22.0 in /home/antares/Documents/anka/Job/Hidup/MachineLearning/env/lib/python3.12/site-packages (from matplotlib) (4.53.1)\n",
      "Requirement already satisfied: kiwisolver>=1.3.1 in /home/antares/Documents/anka/Job/Hidup/MachineLearning/env/lib/python3.12/site-packages (from matplotlib) (1.4.7)\n",
      "Requirement already satisfied: packaging>=20.0 in /home/antares/Documents/anka/Job/Hidup/MachineLearning/env/lib/python3.12/site-packages (from matplotlib) (24.1)\n",
      "Requirement already satisfied: pillow>=8 in /home/antares/Documents/anka/Job/Hidup/MachineLearning/env/lib/python3.12/site-packages (from matplotlib) (10.4.0)\n",
      "Requirement already satisfied: pyparsing>=2.3.1 in /home/antares/Documents/anka/Job/Hidup/MachineLearning/env/lib/python3.12/site-packages (from matplotlib) (3.1.4)\n",
      "Requirement already satisfied: six>=1.5 in /home/antares/Documents/anka/Job/Hidup/MachineLearning/env/lib/python3.12/site-packages (from python-dateutil>=2.8.2->pandas) (1.16.0)\n"
     ]
    }
   ],
   "source": [
    "!pip install pandas numpy scikit-learn matplotlib"
   ]
  },
  {
   "cell_type": "code",
   "execution_count": 146,
   "id": "012f9ecd-fe68-42f5-9ec3-37d97be007d1",
   "metadata": {},
   "outputs": [],
   "source": [
    "import pandas as pd\n",
    "import numpy as np\n",
    "from sklearn.decomposition import PCA\n",
    "from sklearn.preprocessing import StandardScaler\n",
    "import matplotlib.pyplot as plt"
   ]
  },
  {
   "cell_type": "code",
   "execution_count": 147,
   "id": "5fc99842-e3dd-44bf-ba3a-9f29a0855f43",
   "metadata": {},
   "outputs": [
    {
     "data": {
      "text/plain": [
       "Index(['Unnamed: 0', 'Date', 'Duration', 'Tag', 'Attention', 'Relaxation',\n",
       "       'Delta', 'Theta', 'Low-Alpha', 'High-Alpha', 'Low-Beta', 'High-Beta',\n",
       "       'Low-Gamma', 'Mid-Gamma', 'SyncRate', 'Time-set'],\n",
       "      dtype='object')"
      ]
     },
     "execution_count": 147,
     "metadata": {},
     "output_type": "execute_result"
    }
   ],
   "source": [
    "file_path = '50lux.csv'  # Ganti dengan path file EEG Anda\n",
    "eeg_data = pd.read_csv(file_path) # Sesuaikan nama sheet jika diperlukan\n",
    "eeg_data.columns"
   ]
  },
  {
   "cell_type": "code",
   "execution_count": 148,
   "id": "31e22580",
   "metadata": {},
   "outputs": [],
   "source": [
    "# Drop 'Unnamed: 0' column\n",
    "eeg_data.drop('Unnamed: 0', axis=1, inplace=True)"
   ]
  },
  {
   "cell_type": "code",
   "execution_count": 149,
   "id": "0ffecee5",
   "metadata": {},
   "outputs": [
    {
     "data": {
      "text/html": [
       "<div>\n",
       "<style scoped>\n",
       "    .dataframe tbody tr th:only-of-type {\n",
       "        vertical-align: middle;\n",
       "    }\n",
       "\n",
       "    .dataframe tbody tr th {\n",
       "        vertical-align: top;\n",
       "    }\n",
       "\n",
       "    .dataframe thead th {\n",
       "        text-align: right;\n",
       "    }\n",
       "</style>\n",
       "<table border=\"1\" class=\"dataframe\">\n",
       "  <thead>\n",
       "    <tr style=\"text-align: right;\">\n",
       "      <th></th>\n",
       "      <th>Date</th>\n",
       "      <th>Duration</th>\n",
       "      <th>Tag</th>\n",
       "      <th>Attention</th>\n",
       "      <th>Relaxation</th>\n",
       "      <th>Delta</th>\n",
       "      <th>Theta</th>\n",
       "      <th>Low-Alpha</th>\n",
       "      <th>High-Alpha</th>\n",
       "      <th>Low-Beta</th>\n",
       "      <th>High-Beta</th>\n",
       "      <th>Low-Gamma</th>\n",
       "      <th>Mid-Gamma</th>\n",
       "      <th>SyncRate</th>\n",
       "      <th>Time-set</th>\n",
       "    </tr>\n",
       "  </thead>\n",
       "  <tbody>\n",
       "    <tr>\n",
       "      <th>0</th>\n",
       "      <td>2024-06-07 16:25:27</td>\n",
       "      <td>727.0</td>\n",
       "      <td>Test</td>\n",
       "      <td>63</td>\n",
       "      <td>34</td>\n",
       "      <td>103412</td>\n",
       "      <td>9965</td>\n",
       "      <td>1269</td>\n",
       "      <td>614</td>\n",
       "      <td>1516</td>\n",
       "      <td>2935</td>\n",
       "      <td>1957</td>\n",
       "      <td>1587</td>\n",
       "      <td>0</td>\n",
       "      <td>1</td>\n",
       "    </tr>\n",
       "    <tr>\n",
       "      <th>1</th>\n",
       "      <td>2024-06-07 16:25:27</td>\n",
       "      <td>727.0</td>\n",
       "      <td>Test</td>\n",
       "      <td>67</td>\n",
       "      <td>23</td>\n",
       "      <td>367906</td>\n",
       "      <td>77978</td>\n",
       "      <td>8389</td>\n",
       "      <td>13614</td>\n",
       "      <td>6928</td>\n",
       "      <td>5254</td>\n",
       "      <td>3581</td>\n",
       "      <td>982</td>\n",
       "      <td>0</td>\n",
       "      <td>2</td>\n",
       "    </tr>\n",
       "    <tr>\n",
       "      <th>2</th>\n",
       "      <td>2024-06-07 16:25:27</td>\n",
       "      <td>727.0</td>\n",
       "      <td>Test</td>\n",
       "      <td>67</td>\n",
       "      <td>17</td>\n",
       "      <td>23018</td>\n",
       "      <td>30583</td>\n",
       "      <td>3696</td>\n",
       "      <td>11113</td>\n",
       "      <td>6253</td>\n",
       "      <td>11873</td>\n",
       "      <td>2852</td>\n",
       "      <td>1642</td>\n",
       "      <td>0</td>\n",
       "      <td>3</td>\n",
       "    </tr>\n",
       "    <tr>\n",
       "      <th>3</th>\n",
       "      <td>2024-06-07 16:25:27</td>\n",
       "      <td>727.0</td>\n",
       "      <td>Test</td>\n",
       "      <td>91</td>\n",
       "      <td>51</td>\n",
       "      <td>27415</td>\n",
       "      <td>23517</td>\n",
       "      <td>8780</td>\n",
       "      <td>14857</td>\n",
       "      <td>2594</td>\n",
       "      <td>4230</td>\n",
       "      <td>4457</td>\n",
       "      <td>2137</td>\n",
       "      <td>0</td>\n",
       "      <td>4</td>\n",
       "    </tr>\n",
       "    <tr>\n",
       "      <th>4</th>\n",
       "      <td>2024-06-07 16:25:27</td>\n",
       "      <td>727.0</td>\n",
       "      <td>Test</td>\n",
       "      <td>84</td>\n",
       "      <td>69</td>\n",
       "      <td>27760</td>\n",
       "      <td>22435</td>\n",
       "      <td>8865</td>\n",
       "      <td>9686</td>\n",
       "      <td>5708</td>\n",
       "      <td>6365</td>\n",
       "      <td>2740</td>\n",
       "      <td>2472</td>\n",
       "      <td>0</td>\n",
       "      <td>5</td>\n",
       "    </tr>\n",
       "  </tbody>\n",
       "</table>\n",
       "</div>"
      ],
      "text/plain": [
       "                  Date  Duration   Tag  Attention  Relaxation   Delta  Theta  \\\n",
       "0  2024-06-07 16:25:27     727.0  Test         63          34  103412   9965   \n",
       "1  2024-06-07 16:25:27     727.0  Test         67          23  367906  77978   \n",
       "2  2024-06-07 16:25:27     727.0  Test         67          17   23018  30583   \n",
       "3  2024-06-07 16:25:27     727.0  Test         91          51   27415  23517   \n",
       "4  2024-06-07 16:25:27     727.0  Test         84          69   27760  22435   \n",
       "\n",
       "   Low-Alpha  High-Alpha  Low-Beta  High-Beta  Low-Gamma  Mid-Gamma  SyncRate  \\\n",
       "0       1269         614      1516       2935       1957       1587         0   \n",
       "1       8389       13614      6928       5254       3581        982         0   \n",
       "2       3696       11113      6253      11873       2852       1642         0   \n",
       "3       8780       14857      2594       4230       4457       2137         0   \n",
       "4       8865        9686      5708       6365       2740       2472         0   \n",
       "\n",
       "   Time-set  \n",
       "0         1  \n",
       "1         2  \n",
       "2         3  \n",
       "3         4  \n",
       "4         5  "
      ]
     },
     "execution_count": 149,
     "metadata": {},
     "output_type": "execute_result"
    }
   ],
   "source": [
    "eeg_data.head()"
   ]
  },
  {
   "cell_type": "code",
   "execution_count": 150,
   "id": "f7bd185a-4867-4ffc-a99a-2bf50f5d7b51",
   "metadata": {},
   "outputs": [],
   "source": [
    "eeg_columns = ['Delta', 'Theta', 'Low-Alpha', 'High-Alpha', 'Low-Beta', 'High-Beta', 'Low-Gamma', 'Mid-Gamma']"
   ]
  },
  {
   "cell_type": "code",
   "execution_count": 151,
   "id": "5afbf8f1-50cd-45b4-a071-8ea636ed1245",
   "metadata": {},
   "outputs": [],
   "source": [
    "# for col in eeg_data.columns:\n",
    "#     eeg_values=eeg_data[eeg_columns].values\n",
    "#     eeg_values\n",
    "\n",
    "eeg_values = eeg_data[eeg_columns].values"
   ]
  },
  {
   "cell_type": "code",
   "execution_count": 152,
   "id": "de0bded1-ebf2-47e7-8f69-e96ad4d1b9ad",
   "metadata": {},
   "outputs": [],
   "source": [
    "scaler = StandardScaler()\n",
    "eeg_values_scaled = scaler.fit_transform(eeg_values)"
   ]
  },
  {
   "cell_type": "code",
   "execution_count": 153,
   "id": "dfc15147-d014-4a6d-88eb-445c2d263b8c",
   "metadata": {},
   "outputs": [],
   "source": [
    "pca = PCA(n_components=0.95)  # Pilih komponen yang menjelaskan 95% variansi\n",
    "eeg_pca = pca.fit_transform(eeg_values_scaled)"
   ]
  },
  {
   "cell_type": "code",
   "execution_count": 154,
   "id": "87b98c89",
   "metadata": {},
   "outputs": [],
   "source": [
    "corrected_eeg_columns = [f'PCA_{i+1}_{eeg_columns[i],}' for i in range(eeg_pca.shape[1])]"
   ]
  },
  {
   "cell_type": "code",
   "execution_count": 155,
   "id": "49198495",
   "metadata": {},
   "outputs": [
    {
     "data": {
      "text/html": [
       "<div>\n",
       "<style scoped>\n",
       "    .dataframe tbody tr th:only-of-type {\n",
       "        vertical-align: middle;\n",
       "    }\n",
       "\n",
       "    .dataframe tbody tr th {\n",
       "        vertical-align: top;\n",
       "    }\n",
       "\n",
       "    .dataframe thead th {\n",
       "        text-align: right;\n",
       "    }\n",
       "</style>\n",
       "<table border=\"1\" class=\"dataframe\">\n",
       "  <thead>\n",
       "    <tr style=\"text-align: right;\">\n",
       "      <th></th>\n",
       "      <th>PCA_1_('Delta',)</th>\n",
       "      <th>PCA_2_('Theta',)</th>\n",
       "      <th>PCA_3_('Low-Alpha',)</th>\n",
       "      <th>PCA_4_('High-Alpha',)</th>\n",
       "      <th>PCA_5_('Low-Beta',)</th>\n",
       "      <th>PCA_6_('High-Beta',)</th>\n",
       "      <th>PCA_7_('Low-Gamma',)</th>\n",
       "    </tr>\n",
       "  </thead>\n",
       "  <tbody>\n",
       "    <tr>\n",
       "      <th>0</th>\n",
       "      <td>-1.244162</td>\n",
       "      <td>-0.071100</td>\n",
       "      <td>0.371274</td>\n",
       "      <td>0.149512</td>\n",
       "      <td>0.011709</td>\n",
       "      <td>-0.118151</td>\n",
       "      <td>-0.019088</td>\n",
       "    </tr>\n",
       "    <tr>\n",
       "      <th>1</th>\n",
       "      <td>0.213092</td>\n",
       "      <td>-1.070917</td>\n",
       "      <td>0.585186</td>\n",
       "      <td>-0.313027</td>\n",
       "      <td>-0.430715</td>\n",
       "      <td>-0.022241</td>\n",
       "      <td>0.076325</td>\n",
       "    </tr>\n",
       "    <tr>\n",
       "      <th>2</th>\n",
       "      <td>-0.433555</td>\n",
       "      <td>0.008035</td>\n",
       "      <td>-0.199438</td>\n",
       "      <td>-0.290748</td>\n",
       "      <td>-0.404198</td>\n",
       "      <td>0.167957</td>\n",
       "      <td>0.073184</td>\n",
       "    </tr>\n",
       "    <tr>\n",
       "      <th>3</th>\n",
       "      <td>-0.493409</td>\n",
       "      <td>-0.211719</td>\n",
       "      <td>-0.201680</td>\n",
       "      <td>-0.492419</td>\n",
       "      <td>-0.028660</td>\n",
       "      <td>0.083839</td>\n",
       "      <td>0.630820</td>\n",
       "    </tr>\n",
       "    <tr>\n",
       "      <th>4</th>\n",
       "      <td>-0.504138</td>\n",
       "      <td>-0.100547</td>\n",
       "      <td>-0.259941</td>\n",
       "      <td>-0.173784</td>\n",
       "      <td>-0.016691</td>\n",
       "      <td>-0.026256</td>\n",
       "      <td>0.195428</td>\n",
       "    </tr>\n",
       "  </tbody>\n",
       "</table>\n",
       "</div>"
      ],
      "text/plain": [
       "   PCA_1_('Delta',)  PCA_2_('Theta',)  PCA_3_('Low-Alpha',)  \\\n",
       "0         -1.244162         -0.071100              0.371274   \n",
       "1          0.213092         -1.070917              0.585186   \n",
       "2         -0.433555          0.008035             -0.199438   \n",
       "3         -0.493409         -0.211719             -0.201680   \n",
       "4         -0.504138         -0.100547             -0.259941   \n",
       "\n",
       "   PCA_4_('High-Alpha',)  PCA_5_('Low-Beta',)  PCA_6_('High-Beta',)  \\\n",
       "0               0.149512             0.011709             -0.118151   \n",
       "1              -0.313027            -0.430715             -0.022241   \n",
       "2              -0.290748            -0.404198              0.167957   \n",
       "3              -0.492419            -0.028660              0.083839   \n",
       "4              -0.173784            -0.016691             -0.026256   \n",
       "\n",
       "   PCA_7_('Low-Gamma',)  \n",
       "0             -0.019088  \n",
       "1              0.076325  \n",
       "2              0.073184  \n",
       "3              0.630820  \n",
       "4              0.195428  "
      ]
     },
     "execution_count": 155,
     "metadata": {},
     "output_type": "execute_result"
    }
   ],
   "source": [
    "pca_df = pd.DataFrame(eeg_pca, columns=corrected_eeg_columns)\n",
    "pca_df.head()"
   ]
  },
  {
   "cell_type": "code",
   "execution_count": 156,
   "id": "b65e1443",
   "metadata": {},
   "outputs": [],
   "source": [
    "# Dropping column for combine into new pca dataset\n",
    "eeg_data.drop(['Delta', 'Theta', 'Low-Alpha', 'High-Alpha', 'Low-Beta', 'High-Beta', 'Low-Gamma', 'Mid-Gamma'], axis=1, inplace=True)"
   ]
  },
  {
   "cell_type": "code",
   "execution_count": 157,
   "id": "f4fae7f1",
   "metadata": {},
   "outputs": [],
   "source": [
    "# Combine the original DataFrame with the PCA DataFrame\n",
    "combined_df = pd.concat([eeg_data.reset_index(drop=True), pca_df.reset_index(drop=True)], axis=1)"
   ]
  },
  {
   "cell_type": "code",
   "execution_count": 158,
   "id": "aa3687ee",
   "metadata": {},
   "outputs": [],
   "source": [
    "# Make CSV_file\n",
    "output_file = 'combined_pca_50lux.csv' # Change this into your own filename\n",
    "combined_df.to_csv(output_file, index=False)"
   ]
  },
  {
   "cell_type": "code",
   "execution_count": 159,
   "id": "22d5e40a-d2e1-4080-b85c-76c45bdef51b",
   "metadata": {},
   "outputs": [],
   "source": [
    "explained_variance_ratio = pca.explained_variance_ratio_"
   ]
  },
  {
   "cell_type": "code",
   "execution_count": 160,
   "id": "da206085-f5a2-4a29-b19e-def1bc5fd06e",
   "metadata": {},
   "outputs": [],
   "source": [
    "cumulative_variance = np.cumsum(explained_variance_ratio)"
   ]
  },
  {
   "cell_type": "code",
   "execution_count": 161,
   "id": "f6d15852-8d80-4754-9746-ca433abb956b",
   "metadata": {},
   "outputs": [
    {
     "data": {
      "image/png": "[encoded data removed]",
      "text/plain": [
       "<Figure size 800x600 with 1 Axes>"
      ]
     },
     "metadata": {},
     "output_type": "display_data"
    }
   ],
   "source": [
    "plt.figure(figsize=(8, 6))\n",
    "plt.plot(cumulative_variance, marker='o', color='b')\n",
    "plt.title('Cumulative Variance Explained by PCA Components')\n",
    "plt.xlabel('Number of Principal Components')\n",
    "plt.ylabel('Cumulative Variance Explained')\n",
    "plt.grid(True)\n",
    "plt.show()"
   ]
  },
  {
   "cell_type": "code",
   "execution_count": 162,
   "id": "886a551c-d71c-4d86-ae1e-4b1c62c30620",
   "metadata": {},
   "outputs": [],
   "source": [
    "explained_variance = pca.explained_variance_"
   ]
  },
  {
   "cell_type": "code",
   "execution_count": 163,
   "id": "6133a8b0-7000-425e-b064-a07bceef9fe0",
   "metadata": {},
   "outputs": [
    {
     "name": "stdout",
     "output_type": "stream",
     "text": [
      "Jumlah komponen utama yang dipilih: 7\n",
      "Varians yang dijelaskan oleh tiap komponen utama: [4.1335949  1.02919305 0.69029936 0.64227859 0.46275631 0.39131408\n",
      " 0.33573631]\n"
     ]
    }
   ],
   "source": [
    "print(f'Jumlah komponen utama yang dipilih: {pca.n_components_}')\n",
    "print(f'Varians yang dijelaskan oleh tiap komponen utama: {explained_variance}')"
   ]
  },
  {
   "cell_type": "code",
   "execution_count": 164,
   "id": "f4f86b48-cfa9-4610-a323-bbfc8880421f",
   "metadata": {},
   "outputs": [
    {
     "name": "stdout",
     "output_type": "stream",
     "text": [
      "Persentase varians yang dijelaskan oleh tiap komponen utama: [0.51665409 0.12863786 0.08627986 0.08027779 0.05783947 0.04890997\n",
      " 0.04196336]\n"
     ]
    }
   ],
   "source": [
    "explained_variance_ratio = pca.explained_variance_ratio_\n",
    "print(f'Persentase varians yang dijelaskan oleh tiap komponen utama: {explained_variance_ratio}')"
   ]
  },
  {
   "cell_type": "code",
   "execution_count": null,
   "id": "73f4c772-b6ab-4305-9899-e2b31a8af6d5",
   "metadata": {},
   "outputs": [],
   "source": []
  }
 ],
 "metadata": {
  "kernelspec": {
   "display_name": "env",
   "language": "python",
   "name": "python3"
  },
  "language_info": {
   "codemirror_mode": {
    "name": "ipython",
    "version": 3
   },
   "file_extension": ".py",
   "mimetype": "text/x-python",
   "name": "python",
   "nbconvert_exporter": "python",
   "pygments_lexer": "ipython3",
   "version": "3.12.3"
  }
 },
 "nbformat": 4,
 "nbformat_minor": 5
}
