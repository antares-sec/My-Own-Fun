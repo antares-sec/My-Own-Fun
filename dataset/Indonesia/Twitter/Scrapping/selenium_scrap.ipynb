{
 "cells": [
  {
   "cell_type": "code",
   "execution_count": 13,
   "metadata": {},
   "outputs": [],
   "source": [
    "from selenium import webdriver\n",
    "# from selenium.webdriver.firefox.options import Options\n",
    "# from selenium.webdriver.firefox.service import Service\n",
    "\n",
    "from selenium.webdriver.chrome.options import Options\n",
    "from selenium.webdriver.chrome.service import Service\n",
    "from selenium.webdriver.common.by import By\n",
    "from selenium.webdriver.support.ui import WebDriverWait\n",
    "from selenium.webdriver.support import expected_conditions as EC\n",
    "from webdriver_manager.chrome import ChromeDriverManager\n",
    "import time\n",
    "import pandas as pd"
   ]
  },
  {
   "cell_type": "code",
   "execution_count": 14,
   "metadata": {},
   "outputs": [],
   "source": [
    "def setup_driver():\n",
    "    service = Service(ChromeDriverManager().install())\n",
    "    driver = webdriver.Chrome(service=service)\n",
    "    return driver"
   ]
  },
  {
   "cell_type": "code",
   "execution_count": 15,
   "metadata": {},
   "outputs": [],
   "source": [
    "def login_twitter(driver, username, password):\n",
    "    driver.get(\"https://x.com/i/flow/login\")\n",
    "    # Enter username\n",
    "    username_field = WebDriverWait(driver, 10).until(\n",
    "        EC.presence_of_element_located((By.XPATH, '//*[@id=\"layers\"]/div[2]/div/div/div/div/div/div[2]/div[2]/div/div/div[2]/div[2]/div/div/div/div[4]/label/div/div[2]/div/input'))\n",
    "    )\n",
    "    username_field.send_keys(username)\n",
    "    driver.find_element(By.XPATH, \"//span[text()='Next']\").click()\n",
    "    \n",
    "    # Enter password\n",
    "    password_field = WebDriverWait(driver, 10).until(\n",
    "        EC.presence_of_element_located((By.XPATH, '//*[@id=\"layers\"]/div[2]/div/div/div/div/div/div[2]/div[2]/div/div/div[2]/div[2]/div[1]/div/div/div[3]/div/label/div/div[2]/div[1]/input'))\n",
    "    )\n",
    "    password_field.send_keys(password)\n",
    "    driver.find_element(By.XPATH, \"//span[text()='Log in']\").click()\n",
    "    \n",
    "    # Wait for login to complete\n",
    "    WebDriverWait(driver, 10).until(EC.url_contains(\"home\"))"
   ]
  },
  {
   "cell_type": "code",
   "execution_count": 16,
   "metadata": {},
   "outputs": [],
   "source": [
    "def scrape_tweets(driver, text_to_scrape, num_tweets=10):\n",
    "    driver.get(f\"https://x.com/search?q={text_to_scrape}&src=typed_query&f=live\")\n",
    "    tweets = []\n",
    "    last_height = driver.execute_script(\"return document.body.scrollHeight\")\n",
    "    \n",
    "    while len(tweets) < num_tweets:\n",
    "        tweet_elements = driver.find_elements(By.XPATH, '//*[@id=\"id__rj4ilypad3l\"]')\n",
    "        \n",
    "        for tweet in tweet_elements:\n",
    "            if len(tweets) >= num_tweets:\n",
    "                break\n",
    "            \n",
    "            try:\n",
    "                text = tweet.find_element(By.XPATH, '//*[@id=\"id__rj4ilypad3l\"]').text\n",
    "                tweets.append(text)\n",
    "            except:\n",
    "                pass\n",
    "        \n",
    "        driver.execute_script(\"window.scrollTo(0, document.body.scrollHeight);\")\n",
    "        time.sleep(2)\n",
    "        new_height = driver.execute_script(\"return document.body.scrollHeight\")\n",
    "        \n",
    "        if new_height == last_height:\n",
    "            break\n",
    "        last_height = new_height\n",
    "    \n",
    "    return tweets\n"
   ]
  },
  {
   "cell_type": "markdown",
   "metadata": {},
   "source": [
    "# Login - Bypass authenticated condition (DONE)"
   ]
  },
  {
   "cell_type": "code",
   "execution_count": 18,
   "metadata": {},
   "outputs": [
    {
     "name": "stdout",
     "output_type": "stream",
     "text": [
      "Scraped Tweets:\n",
      "1. keluarlah harusnya,manfaatin tuh putusan MK. jangan banyak alesan,aspirasi rakyat jakarta perlu didengarkan\n",
      "\n",
      "2. Kotak Kosong di Pilkada, Pengamat: Parpol Kurang Maksimalkan Putusan MK \n",
      "@officialMKRI\n",
      "https://sinpo.id/detail/80334/kotak-kosong-di-pilkada-pengamat-parpol-kurang-maksimalkan-putusan-mk… \n",
      "#parpol #mk #pengamat #pilkada\n",
      "\n",
      "3. KPU tegaskan taat pada putusan MK soal UU Pilkada.\n",
      "\n",
      "4. Coba apa bedanya putusan MK 90 dg 60?\n",
      "\n",
      "Ada untung MK dipuja gak ada untung MK dihujat, xixixi!\n",
      "\n",
      "5. 8. Semua benar\n",
      "\n",
      "6. Mahasiswa dan Ormas Kawal Putusan MK Tentang Pilkada Dengan Aksi Damai #mk #pilkada\n",
      "\n",
      "7. Warga Jakarta Kawal Putusan MK Tentang Pilkada Dengan Deklarasi Pemilu Damai #mk #pilkada\n",
      "\n",
      "8. Pemerintah Mendukung Putusan MK Tentang Pilkada Serentak 2024 #mk #pilkada\n",
      "\n",
      "9. Warga Jakarta Kawal Putusan MK Tentang Pilkada Dengan Deklarasi Pemilu Damai #mk #pilkada\n",
      "\n",
      "10. Pemerintah Mendukung Putusan MK Tentang Pilkada Serentak 2024 #mk #pilkada\n",
      "\n"
     ]
    }
   ],
   "source": [
    "driver = setup_driver()\n",
    "login_twitter(driver, 'yantoriu12', 'Miksa211')\n",
    "tweets = scrape_tweets(driver, 'PutusanMK', 10)\n",
    "\n",
    "# Create a DataFrame from the tweets\n",
    "df = pd.DataFrame(tweets, columns=['Tweet'])\n",
    "\n",
    "# Save the DataFrame to a CSV file\n",
    "df.to_csv('tweets.csv', index=False)\n",
    "\n",
    "print(\"Tweets have been saved to 'tweets.csv'\")"
   ]
  }
 ],
 "metadata": {
  "kernelspec": {
   "display_name": "env",
   "language": "python",
   "name": "python3"
  },
  "language_info": {
   "codemirror_mode": {
    "name": "ipython",
    "version": 3
   },
   "file_extension": ".py",
   "mimetype": "text/x-python",
   "name": "python",
   "nbconvert_exporter": "python",
   "pygments_lexer": "ipython3",
   "version": "3.12.3"
  }
 },
 "nbformat": 4,
 "nbformat_minor": 2
}
