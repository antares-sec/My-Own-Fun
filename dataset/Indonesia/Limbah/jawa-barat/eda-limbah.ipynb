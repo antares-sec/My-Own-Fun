{
 "cells": [
  {
   "cell_type": "code",
   "execution_count": 65,
   "metadata": {},
   "outputs": [],
   "source": [
    "import pandas as pd\n",
    "import matplotlib.pyplot as plt\n",
    "import seaborn as sns\n",
    "\n",
    "# Figures inline and set visualization\n",
    "%matplotlib inline\n",
    "sns.set()"
   ]
  },
  {
   "cell_type": "markdown",
   "metadata": {},
   "source": [
    "# EDA - Data Limbah pada setiap KK (Kepala Keluarga) di daerah Jawa Barat\n",
    "\n",
    "### Penjelasan pada kolom data ###\n",
    "\n",
    "1. **kode_provinsi**: menyatakan kode Provinsi Jawa Barat sesuai ketentuan BPS merujuk pada aturan Peraturan Badan Pusat Statistik Nomor 3 Tahun 2019 dengan tipe data numerik. *\n",
    "\n",
    "2. **nama_provinsi**: menyatakan lingkup data berasal dari wilayah Provinsi Jawa Barat sesuai ketentuan BPS merujuk pada aturan Peraturan Badan Pusat Statistik Nomor 3 Tahun 2019 dengan tipe data teks. \n",
    "\n",
    "3. **kode_kabupaten_kota**: menyatakan kode dari setiap kabupaten dan kota di Provinsi Jawa Barat sesuai ketentuan BPS merujuk pada aturan Peraturan Badan Pusat Statistik Nomor 3 Tahun 2019 dengan tipe data numerik. \n",
    "\n",
    "4. **nama_kabupaten_kota**: menyatakan lingkup data berasal dari setiap kabupaten dan kota di Provinsi Jawa Barat sesuai penamaan BPS merujuk pada aturan Peraturan Badan Pusat Statistik Nomor 3 Tahun 2019 dengan tipe data teks. \n",
    "\n",
    "5. **cakupan_layanan**: menyatakan kategori cakupan layanan air limbah dengan tipe data teks. sanitasi layak: fasilitas sanitasi yang memenuhi syarat kesehatan. \n",
    "\n",
    "    ## Cakupan layanan termasuk : \n",
    "    - **layanan dasar**: layanan dan kriteria pelayanan dengan kualitas sesuai dengan kriteria rumah layak huni. \n",
    "\n",
    "    - **buang air besar sembarangan**: suatu tindakan membuang kotoran atau tinja di ladang, hutan, semak-semak, sungai, pantai atau area terbuka lainnya dan dibiarkan menyebar mengontaminasi lingkungan, tanah, udara dan air. \n",
    "\n",
    "\n",
    "8. **Jumlah_Kepala_Keluarga**: menyatakan jumlah kepala keluarga dengan tipe data numerik. \n",
    "\n",
    "9. **satuan**: menyatakan satuan dari pengukuran jumlah cakupan air limbah dalam Kepala Keluarga dengan tipe data teks. \n",
    "\n",
    "10. **tahun**: menyatakan tahun produksi data dengan tipe data teks."
   ]
  },
  {
   "cell_type": "code",
   "execution_count": 66,
   "metadata": {},
   "outputs": [
    {
     "data": {
      "text/html": [
       "<div>\n",
       "<style scoped>\n",
       "    .dataframe tbody tr th:only-of-type {\n",
       "        vertical-align: middle;\n",
       "    }\n",
       "\n",
       "    .dataframe tbody tr th {\n",
       "        vertical-align: top;\n",
       "    }\n",
       "\n",
       "    .dataframe thead th {\n",
       "        text-align: right;\n",
       "    }\n",
       "</style>\n",
       "<table border=\"1\" class=\"dataframe\">\n",
       "  <thead>\n",
       "    <tr style=\"text-align: right;\">\n",
       "      <th></th>\n",
       "      <th>id</th>\n",
       "      <th>kode_provinsi</th>\n",
       "      <th>nama_provinsi</th>\n",
       "      <th>kode_kabupaten_kota</th>\n",
       "      <th>nama_kabupaten_kota</th>\n",
       "      <th>cakupan_layanan</th>\n",
       "      <th>jumlah_kepala_keluarga</th>\n",
       "      <th>satuan</th>\n",
       "      <th>tahun</th>\n",
       "    </tr>\n",
       "  </thead>\n",
       "  <tbody>\n",
       "    <tr>\n",
       "      <th>0</th>\n",
       "      <td>1</td>\n",
       "      <td>32</td>\n",
       "      <td>JAWA BARAT</td>\n",
       "      <td>3201</td>\n",
       "      <td>KABUPATEN BOGOR</td>\n",
       "      <td>SANITASI LAYAK</td>\n",
       "      <td>1148378</td>\n",
       "      <td>KEPALA KELUARGA</td>\n",
       "      <td>2019</td>\n",
       "    </tr>\n",
       "    <tr>\n",
       "      <th>1</th>\n",
       "      <td>2</td>\n",
       "      <td>32</td>\n",
       "      <td>JAWA BARAT</td>\n",
       "      <td>3201</td>\n",
       "      <td>KABUPATEN BOGOR</td>\n",
       "      <td>LAYANAN DASAR</td>\n",
       "      <td>285761</td>\n",
       "      <td>KEPALA KELUARGA</td>\n",
       "      <td>2019</td>\n",
       "    </tr>\n",
       "    <tr>\n",
       "      <th>2</th>\n",
       "      <td>3</td>\n",
       "      <td>32</td>\n",
       "      <td>JAWA BARAT</td>\n",
       "      <td>3201</td>\n",
       "      <td>KABUPATEN BOGOR</td>\n",
       "      <td>BUANG AIR BESAR SEMBARANGAN</td>\n",
       "      <td>597729</td>\n",
       "      <td>KEPALA KELUARGA</td>\n",
       "      <td>2019</td>\n",
       "    </tr>\n",
       "    <tr>\n",
       "      <th>3</th>\n",
       "      <td>4</td>\n",
       "      <td>32</td>\n",
       "      <td>JAWA BARAT</td>\n",
       "      <td>3202</td>\n",
       "      <td>KABUPATEN SUKABUMI</td>\n",
       "      <td>SANITASI LAYAK</td>\n",
       "      <td>511817</td>\n",
       "      <td>KEPALA KELUARGA</td>\n",
       "      <td>2019</td>\n",
       "    </tr>\n",
       "    <tr>\n",
       "      <th>4</th>\n",
       "      <td>5</td>\n",
       "      <td>32</td>\n",
       "      <td>JAWA BARAT</td>\n",
       "      <td>3202</td>\n",
       "      <td>KABUPATEN SUKABUMI</td>\n",
       "      <td>LAYANAN DASAR</td>\n",
       "      <td>65584</td>\n",
       "      <td>KEPALA KELUARGA</td>\n",
       "      <td>2019</td>\n",
       "    </tr>\n",
       "  </tbody>\n",
       "</table>\n",
       "</div>"
      ],
      "text/plain": [
       "   id  kode_provinsi nama_provinsi  kode_kabupaten_kota nama_kabupaten_kota  \\\n",
       "0   1             32    JAWA BARAT                 3201     KABUPATEN BOGOR   \n",
       "1   2             32    JAWA BARAT                 3201     KABUPATEN BOGOR   \n",
       "2   3             32    JAWA BARAT                 3201     KABUPATEN BOGOR   \n",
       "3   4             32    JAWA BARAT                 3202  KABUPATEN SUKABUMI   \n",
       "4   5             32    JAWA BARAT                 3202  KABUPATEN SUKABUMI   \n",
       "\n",
       "               cakupan_layanan  jumlah_kepala_keluarga           satuan  tahun  \n",
       "0               SANITASI LAYAK                 1148378  KEPALA KELUARGA   2019  \n",
       "1                LAYANAN DASAR                  285761  KEPALA KELUARGA   2019  \n",
       "2  BUANG AIR BESAR SEMBARANGAN                  597729  KEPALA KELUARGA   2019  \n",
       "3               SANITASI LAYAK                  511817  KEPALA KELUARGA   2019  \n",
       "4                LAYANAN DASAR                   65584  KEPALA KELUARGA   2019  "
      ]
     },
     "execution_count": 66,
     "metadata": {},
     "output_type": "execute_result"
    }
   ],
   "source": [
    "# Adding data\n",
    "data = pd.read_csv('disperkim-od_19178_jml_kepala_keluarga_degan_cakupan_air_limbah__cakupan_.csv')\n",
    "# Melihat 5 baris pertama pada dataset\n",
    "data.head(5)"
   ]
  },
  {
   "cell_type": "markdown",
   "metadata": {},
   "source": [
    "### Menampilkan jumlah setiap daerah"
   ]
  },
  {
   "cell_type": "code",
   "execution_count": 67,
   "metadata": {},
   "outputs": [
    {
     "data": {
      "text/plain": [
       "<Axes: >"
      ]
     },
     "execution_count": 67,
     "metadata": {},
     "output_type": "execute_result"
    },
    {
     "data": {
      "image/png": "[encoded data removed]",
      "text/plain": [
       "<Figure size 640x480 with 1 Axes>"
      ]
     },
     "metadata": {},
     "output_type": "display_data"
    }
   ],
   "source": [
    "plt.figure()\n",
    "data.kode_kabupaten_kota.plot(kind=\"bar\")"
   ]
  },
  {
   "cell_type": "code",
   "execution_count": 68,
   "metadata": {},
   "outputs": [
    {
     "data": {
      "text/plain": [
       "array(['KABUPATEN BOGOR', 'KABUPATEN SUKABUMI', 'KABUPATEN CIANJUR',\n",
       "       'KABUPATEN BANDUNG', 'KABUPATEN GARUT', 'KABUPATEN TASIKMALAYA',\n",
       "       'KABUPATEN CIAMIS', 'KABUPATEN KUNINGAN', 'KABUPATEN CIREBON',\n",
       "       'KABUPATEN MAJALENGKA', 'KABUPATEN SUMEDANG',\n",
       "       'KABUPATEN INDRAMAYU', 'KABUPATEN SUBANG', 'KABUPATEN PURWAKARTA',\n",
       "       'KABUPATEN KARAWANG', 'KABUPATEN BEKASI',\n",
       "       'KABUPATEN BANDUNG BARAT', 'KABUPATEN PANGANDARAN', 'KOTA BOGOR',\n",
       "       'KOTA SUKABUMI', 'KOTA BANDUNG', 'KOTA CIREBON', 'KOTA BEKASI',\n",
       "       'KOTA DEPOK', 'KOTA CIMAHI', 'KOTA TASIKMALAYA', 'KOTA BANJAR'],\n",
       "      dtype=object)"
      ]
     },
     "execution_count": 68,
     "metadata": {},
     "output_type": "execute_result"
    }
   ],
   "source": [
    "\"\"\"\n",
    "    Take all of values inside each columns. Why? because we will make a dataset based on the city not the entire province, to ensure a strong model\n",
    "\n",
    "\"\"\"\n",
    "\n",
    "data.nama_kabupaten_kota.unique()"
   ]
  },
  {
   "cell_type": "code",
   "execution_count": 69,
   "metadata": {},
   "outputs": [
    {
     "data": {
      "text/plain": [
       "array(['SANITASI LAYAK', 'LAYANAN DASAR', 'BUANG AIR BESAR SEMBARANGAN'],\n",
       "      dtype=object)"
      ]
     },
     "execution_count": 69,
     "metadata": {},
     "output_type": "execute_result"
    }
   ],
   "source": [
    "data.cakupan_layanan.unique()"
   ]
  },
  {
   "cell_type": "code",
   "execution_count": 70,
   "metadata": {},
   "outputs": [
    {
     "data": {
      "text/plain": [
       "array(['KEPALA KELUARGA'], dtype=object)"
      ]
     },
     "execution_count": 70,
     "metadata": {},
     "output_type": "execute_result"
    }
   ],
   "source": [
    "data.satuan.unique()"
   ]
  },
  {
   "cell_type": "code",
   "execution_count": 71,
   "metadata": {},
   "outputs": [],
   "source": [
    "\"\"\"\n",
    "    Mengubah bentuk teks\n",
    "\"\"\"\n",
    "def text_to_good_txt(nama_kolom, delete_text=None):\n",
    "    # Mengubah semua teks menjadi huruf kecil\n",
    "    data[nama_kolom] = data[nama_kolom].str.lower()\n",
    "    \n",
    "    if delete_text is not None:\n",
    "        data[nama_kolom] = data[nama_kolom].str.replace(delete_text, \"\")\n",
    "    else:\n",
    "        print(\"Done, there's no text to delete\")"
   ]
  },
  {
   "cell_type": "code",
   "execution_count": 72,
   "metadata": {},
   "outputs": [
    {
     "name": "stdout",
     "output_type": "stream",
     "text": [
      "Done, there's no text to delete\n",
      "Done, there's no text to delete\n"
     ]
    }
   ],
   "source": [
    "text_to_good_txt(\"satuan\",)\n",
    "text_to_good_txt(\"nama_kabupaten_kota\", \"kabupaten \")\n",
    "text_to_good_txt(\"cakupan_layanan\",)\n",
    "text_to_good_txt(\"nama_kabupaten_kota\", \"kota \")"
   ]
  },
  {
   "cell_type": "code",
   "execution_count": 73,
   "metadata": {},
   "outputs": [
    {
     "data": {
      "text/html": [
       "<div>\n",
       "<style scoped>\n",
       "    .dataframe tbody tr th:only-of-type {\n",
       "        vertical-align: middle;\n",
       "    }\n",
       "\n",
       "    .dataframe tbody tr th {\n",
       "        vertical-align: top;\n",
       "    }\n",
       "\n",
       "    .dataframe thead th {\n",
       "        text-align: right;\n",
       "    }\n",
       "</style>\n",
       "<table border=\"1\" class=\"dataframe\">\n",
       "  <thead>\n",
       "    <tr style=\"text-align: right;\">\n",
       "      <th></th>\n",
       "      <th>id</th>\n",
       "      <th>kode_provinsi</th>\n",
       "      <th>nama_provinsi</th>\n",
       "      <th>kode_kabupaten_kota</th>\n",
       "      <th>nama_kabupaten_kota</th>\n",
       "      <th>cakupan_layanan</th>\n",
       "      <th>jumlah_kepala_keluarga</th>\n",
       "      <th>satuan</th>\n",
       "      <th>tahun</th>\n",
       "    </tr>\n",
       "  </thead>\n",
       "  <tbody>\n",
       "    <tr>\n",
       "      <th>0</th>\n",
       "      <td>1</td>\n",
       "      <td>32</td>\n",
       "      <td>JAWA BARAT</td>\n",
       "      <td>3201</td>\n",
       "      <td>bogor</td>\n",
       "      <td>sanitasi layak</td>\n",
       "      <td>1148378</td>\n",
       "      <td>kepala keluarga</td>\n",
       "      <td>2019</td>\n",
       "    </tr>\n",
       "    <tr>\n",
       "      <th>1</th>\n",
       "      <td>2</td>\n",
       "      <td>32</td>\n",
       "      <td>JAWA BARAT</td>\n",
       "      <td>3201</td>\n",
       "      <td>bogor</td>\n",
       "      <td>layanan dasar</td>\n",
       "      <td>285761</td>\n",
       "      <td>kepala keluarga</td>\n",
       "      <td>2019</td>\n",
       "    </tr>\n",
       "    <tr>\n",
       "      <th>2</th>\n",
       "      <td>3</td>\n",
       "      <td>32</td>\n",
       "      <td>JAWA BARAT</td>\n",
       "      <td>3201</td>\n",
       "      <td>bogor</td>\n",
       "      <td>buang air besar sembarangan</td>\n",
       "      <td>597729</td>\n",
       "      <td>kepala keluarga</td>\n",
       "      <td>2019</td>\n",
       "    </tr>\n",
       "    <tr>\n",
       "      <th>3</th>\n",
       "      <td>4</td>\n",
       "      <td>32</td>\n",
       "      <td>JAWA BARAT</td>\n",
       "      <td>3202</td>\n",
       "      <td>sukabumi</td>\n",
       "      <td>sanitasi layak</td>\n",
       "      <td>511817</td>\n",
       "      <td>kepala keluarga</td>\n",
       "      <td>2019</td>\n",
       "    </tr>\n",
       "    <tr>\n",
       "      <th>4</th>\n",
       "      <td>5</td>\n",
       "      <td>32</td>\n",
       "      <td>JAWA BARAT</td>\n",
       "      <td>3202</td>\n",
       "      <td>sukabumi</td>\n",
       "      <td>layanan dasar</td>\n",
       "      <td>65584</td>\n",
       "      <td>kepala keluarga</td>\n",
       "      <td>2019</td>\n",
       "    </tr>\n",
       "  </tbody>\n",
       "</table>\n",
       "</div>"
      ],
      "text/plain": [
       "   id  kode_provinsi nama_provinsi  kode_kabupaten_kota nama_kabupaten_kota  \\\n",
       "0   1             32    JAWA BARAT                 3201               bogor   \n",
       "1   2             32    JAWA BARAT                 3201               bogor   \n",
       "2   3             32    JAWA BARAT                 3201               bogor   \n",
       "3   4             32    JAWA BARAT                 3202            sukabumi   \n",
       "4   5             32    JAWA BARAT                 3202            sukabumi   \n",
       "\n",
       "               cakupan_layanan  jumlah_kepala_keluarga           satuan  tahun  \n",
       "0               sanitasi layak                 1148378  kepala keluarga   2019  \n",
       "1                layanan dasar                  285761  kepala keluarga   2019  \n",
       "2  buang air besar sembarangan                  597729  kepala keluarga   2019  \n",
       "3               sanitasi layak                  511817  kepala keluarga   2019  \n",
       "4                layanan dasar                   65584  kepala keluarga   2019  "
      ]
     },
     "execution_count": 73,
     "metadata": {},
     "output_type": "execute_result"
    }
   ],
   "source": [
    "data.head()"
   ]
  },
  {
   "cell_type": "code",
   "execution_count": 74,
   "metadata": {},
   "outputs": [],
   "source": [
    "\"\"\"\n",
    "    Melakukan penghapusan kolom\n",
    "\"\"\"\n",
    "def delete_column(nama_kolom):\n",
    "    for i in range(len(nama_kolom)):\n",
    "        data.drop(nama_kolom[i], axis=1, inplace=True)\n",
    "        print(\"Done\")"
   ]
  },
  {
   "cell_type": "code",
   "execution_count": 75,
   "metadata": {},
   "outputs": [
    {
     "data": {
      "text/plain": [
       "Index(['id', 'kode_provinsi', 'nama_provinsi', 'kode_kabupaten_kota',\n",
       "       'nama_kabupaten_kota', 'cakupan_layanan', 'jumlah_kepala_keluarga',\n",
       "       'satuan', 'tahun'],\n",
       "      dtype='object')"
      ]
     },
     "execution_count": 75,
     "metadata": {},
     "output_type": "execute_result"
    }
   ],
   "source": [
    "data.columns"
   ]
  },
  {
   "cell_type": "code",
   "execution_count": 76,
   "metadata": {},
   "outputs": [
    {
     "name": "stdout",
     "output_type": "stream",
     "text": [
      "Done\n",
      "Done\n",
      "Done\n",
      "Done\n",
      "Done\n"
     ]
    }
   ],
   "source": [
    "kolom = [\n",
    "    'id',\n",
    "    'kode_provinsi',\n",
    "    'nama_provinsi',\n",
    "    'kode_kabupaten_kota',\n",
    "    'tahun'\n",
    "]\n",
    "\n",
    "delete_column(kolom)"
   ]
  },
  {
   "cell_type": "code",
   "execution_count": 77,
   "metadata": {},
   "outputs": [
    {
     "data": {
      "text/html": [
       "<div>\n",
       "<style scoped>\n",
       "    .dataframe tbody tr th:only-of-type {\n",
       "        vertical-align: middle;\n",
       "    }\n",
       "\n",
       "    .dataframe tbody tr th {\n",
       "        vertical-align: top;\n",
       "    }\n",
       "\n",
       "    .dataframe thead th {\n",
       "        text-align: right;\n",
       "    }\n",
       "</style>\n",
       "<table border=\"1\" class=\"dataframe\">\n",
       "  <thead>\n",
       "    <tr style=\"text-align: right;\">\n",
       "      <th></th>\n",
       "      <th>nama_kabupaten_kota</th>\n",
       "      <th>cakupan_layanan</th>\n",
       "      <th>jumlah_kepala_keluarga</th>\n",
       "      <th>satuan</th>\n",
       "    </tr>\n",
       "  </thead>\n",
       "  <tbody>\n",
       "    <tr>\n",
       "      <th>0</th>\n",
       "      <td>bogor</td>\n",
       "      <td>sanitasi layak</td>\n",
       "      <td>1148378</td>\n",
       "      <td>kepala keluarga</td>\n",
       "    </tr>\n",
       "    <tr>\n",
       "      <th>1</th>\n",
       "      <td>bogor</td>\n",
       "      <td>layanan dasar</td>\n",
       "      <td>285761</td>\n",
       "      <td>kepala keluarga</td>\n",
       "    </tr>\n",
       "    <tr>\n",
       "      <th>2</th>\n",
       "      <td>bogor</td>\n",
       "      <td>buang air besar sembarangan</td>\n",
       "      <td>597729</td>\n",
       "      <td>kepala keluarga</td>\n",
       "    </tr>\n",
       "    <tr>\n",
       "      <th>3</th>\n",
       "      <td>sukabumi</td>\n",
       "      <td>sanitasi layak</td>\n",
       "      <td>511817</td>\n",
       "      <td>kepala keluarga</td>\n",
       "    </tr>\n",
       "    <tr>\n",
       "      <th>4</th>\n",
       "      <td>sukabumi</td>\n",
       "      <td>layanan dasar</td>\n",
       "      <td>65584</td>\n",
       "      <td>kepala keluarga</td>\n",
       "    </tr>\n",
       "  </tbody>\n",
       "</table>\n",
       "</div>"
      ],
      "text/plain": [
       "  nama_kabupaten_kota              cakupan_layanan  jumlah_kepala_keluarga  \\\n",
       "0               bogor               sanitasi layak                 1148378   \n",
       "1               bogor                layanan dasar                  285761   \n",
       "2               bogor  buang air besar sembarangan                  597729   \n",
       "3            sukabumi               sanitasi layak                  511817   \n",
       "4            sukabumi                layanan dasar                   65584   \n",
       "\n",
       "            satuan  \n",
       "0  kepala keluarga  \n",
       "1  kepala keluarga  \n",
       "2  kepala keluarga  \n",
       "3  kepala keluarga  \n",
       "4  kepala keluarga  "
      ]
     },
     "execution_count": 77,
     "metadata": {},
     "output_type": "execute_result"
    }
   ],
   "source": [
    "data.head()"
   ]
  },
  {
   "cell_type": "code",
   "execution_count": 78,
   "metadata": {},
   "outputs": [
    {
     "name": "stdout",
     "output_type": "stream",
     "text": [
      "<class 'pandas.core.frame.DataFrame'>\n",
      "RangeIndex: 243 entries, 0 to 242\n",
      "Data columns (total 4 columns):\n",
      " #   Column                  Non-Null Count  Dtype \n",
      "---  ------                  --------------  ----- \n",
      " 0   nama_kabupaten_kota     243 non-null    object\n",
      " 1   cakupan_layanan         243 non-null    object\n",
      " 2   jumlah_kepala_keluarga  243 non-null    int64 \n",
      " 3   satuan                  243 non-null    object\n",
      "dtypes: int64(1), object(3)\n",
      "memory usage: 7.7+ KB\n"
     ]
    }
   ],
   "source": [
    "data.info()"
   ]
  },
  {
   "cell_type": "code",
   "execution_count": 81,
   "metadata": {},
   "outputs": [
    {
     "data": {
      "text/plain": [
       "array([1148378,  285761,  597729,  511817,   65584,  136460,  492377,\n",
       "         69365,  143650,  683878,   45527,  201639,  329720,  122085,\n",
       "        227922,  372409,   57184,  121597,  215508,   69824,  111227,\n",
       "        296632,      80,   36713,  551748,   19571,   88197,  214333,\n",
       "         28005,  139993,  295990,   30298,   27084,  445005,   36269,\n",
       "        129602,  399138,    8463,   43965,  201884,    8928,   24297,\n",
       "        545055,   31079,   73164,  749206,   67264,   97997,  407720,\n",
       "         26264,   22845,   91486,   23316,   29177,  160908,    2273,\n",
       "         60948,   58570,    5386,   10376,  345672,   10435,  213272,\n",
       "         81664,     185,    8015,  568890,    8972,    7846,  368397,\n",
       "         15847,   13814,  117923,    1095,   32189,   97079,    8617,\n",
       "         77358,   50563,    2612,    1362, 1015474,  488481,  527924,\n",
       "        541061,   53637,  119337,  548121,   35704,  128524,  736343,\n",
       "         84811,  161565,  384849,  114216,  193718,  436552,   41347,\n",
       "         75514,  242353,   60991,   93242,  296739,      18,   36669,\n",
       "        543376,   35154,   80987,  215750,   33389,  133193,  312940,\n",
       "         21261,   19173,  468300,   32038,  112429,  441363,    4498,\n",
       "          7077,  218039,    7959,   18596,  543778,   38671,   68094,\n",
       "        792690,  122737,   81307,  471656,   35557,       0,  112497,\n",
       "          9679,   21598,  131690,  103731,   37350,   61123,  366391,\n",
       "        196253,   81505,    8361,  559918,   25791,  352804,   45572,\n",
       "        116840,   34369,   85582,    4307,   92178,   47950,    2577,\n",
       "          4011, 1108460,  444185,  479233,  681466,   47086,  569046,\n",
       "         30824,  112478,  773815,   78007,  130896,  411725,   98311,\n",
       "        189598,  463508,   34018,   58385,  277981,   41983,   76622,\n",
       "        297339,      65,   36022,  547659,   33967,   77891,  226615,\n",
       "         22524,  315708,   18912,   18754,  471813,   28525,  455022,\n",
       "          3946,  220038,   10175,   14380,  553922,   28347,   68274,\n",
       "        832467,   82960,  471552,   35661,  115931,    6771,   21279,\n",
       "        159165,   78473,   37647,   60826,  421971,  147409,  564066,\n",
       "         36008,   86816,    2831,   93408,    2820,    3768])"
      ]
     },
     "execution_count": 81,
     "metadata": {},
     "output_type": "execute_result"
    }
   ],
   "source": [
    "data.jumlah_kepala_keluarga.unique()"
   ]
  },
  {
   "cell_type": "code",
   "execution_count": 83,
   "metadata": {},
   "outputs": [
    {
     "data": {
      "text/plain": [
       "<Axes: xlabel='cakupan_layanan'>"
      ]
     },
     "execution_count": 83,
     "metadata": {},
     "output_type": "execute_result"
    },
    {
     "data": {
      "image/png": "[encoded data removed]",
      "text/plain": [
       "<Figure size 640x480 with 1 Axes>"
      ]
     },
     "metadata": {},
     "output_type": "display_data"
    }
   ],
   "source": [
    "plt.figure()\n",
    "data.cakupan_layanan.value_counts().plot(kind=\"bar\")"
   ]
  },
  {
   "cell_type": "code",
   "execution_count": 87,
   "metadata": {},
   "outputs": [
    {
     "data": {
      "text/plain": [
       "<Axes: xlabel='nama_kabupaten_kota'>"
      ]
     },
     "execution_count": 87,
     "metadata": {},
     "output_type": "execute_result"
    },
    {
     "data": {
      "image/png": "[encoded data removed]",
      "text/plain": [
       "<Figure size 640x480 with 1 Axes>"
      ]
     },
     "metadata": {},
     "output_type": "display_data"
    }
   ],
   "source": [
    "plt.figure()\n",
    "data.nama_kabupaten_kota.value_counts().plot(kind=\"bar\")"
   ]
  },
  {
   "cell_type": "markdown",
   "metadata": {},
   "source": [
    "## PENJELASAN\n",
    " - NILAI '0' = BAB SEMBARANGAN\n",
    " - NILAI '1' = LAYANAN DASAR\n",
    " - NILAI '2' = SANITASI LAYAK"
   ]
  },
  {
   "cell_type": "code",
   "execution_count": 91,
   "metadata": {},
   "outputs": [
    {
     "data": {
      "text/html": [
       "<div>\n",
       "<style scoped>\n",
       "    .dataframe tbody tr th:only-of-type {\n",
       "        vertical-align: middle;\n",
       "    }\n",
       "\n",
       "    .dataframe tbody tr th {\n",
       "        vertical-align: top;\n",
       "    }\n",
       "\n",
       "    .dataframe thead th {\n",
       "        text-align: right;\n",
       "    }\n",
       "</style>\n",
       "<table border=\"1\" class=\"dataframe\">\n",
       "  <thead>\n",
       "    <tr style=\"text-align: right;\">\n",
       "      <th></th>\n",
       "      <th>nama_kabupaten_kota</th>\n",
       "      <th>cakupan_layanan</th>\n",
       "      <th>jumlah_kepala_keluarga</th>\n",
       "      <th>satuan</th>\n",
       "    </tr>\n",
       "  </thead>\n",
       "  <tbody>\n",
       "    <tr>\n",
       "      <th>0</th>\n",
       "      <td>bogor</td>\n",
       "      <td>2</td>\n",
       "      <td>1148378</td>\n",
       "      <td>kepala keluarga</td>\n",
       "    </tr>\n",
       "    <tr>\n",
       "      <th>1</th>\n",
       "      <td>bogor</td>\n",
       "      <td>1</td>\n",
       "      <td>285761</td>\n",
       "      <td>kepala keluarga</td>\n",
       "    </tr>\n",
       "    <tr>\n",
       "      <th>2</th>\n",
       "      <td>bogor</td>\n",
       "      <td>0</td>\n",
       "      <td>597729</td>\n",
       "      <td>kepala keluarga</td>\n",
       "    </tr>\n",
       "    <tr>\n",
       "      <th>3</th>\n",
       "      <td>sukabumi</td>\n",
       "      <td>2</td>\n",
       "      <td>511817</td>\n",
       "      <td>kepala keluarga</td>\n",
       "    </tr>\n",
       "    <tr>\n",
       "      <th>4</th>\n",
       "      <td>sukabumi</td>\n",
       "      <td>1</td>\n",
       "      <td>65584</td>\n",
       "      <td>kepala keluarga</td>\n",
       "    </tr>\n",
       "  </tbody>\n",
       "</table>\n",
       "</div>"
      ],
      "text/plain": [
       "  nama_kabupaten_kota  cakupan_layanan  jumlah_kepala_keluarga  \\\n",
       "0               bogor                2                 1148378   \n",
       "1               bogor                1                  285761   \n",
       "2               bogor                0                  597729   \n",
       "3            sukabumi                2                  511817   \n",
       "4            sukabumi                1                   65584   \n",
       "\n",
       "            satuan  \n",
       "0  kepala keluarga  \n",
       "1  kepala keluarga  \n",
       "2  kepala keluarga  \n",
       "3  kepala keluarga  \n",
       "4  kepala keluarga  "
      ]
     },
     "execution_count": 91,
     "metadata": {},
     "output_type": "execute_result"
    }
   ],
   "source": [
    "# Label encoder\n",
    "from sklearn.preprocessing import LabelEncoder\n",
    "\n",
    "le = LabelEncoder()\n",
    "data_encoder = data\n",
    "data_encoder['cakupan_layanan'] = le.fit_transform(data_encoder['cakupan_layanan'])\n",
    "data_encoder.head()"
   ]
  },
  {
   "cell_type": "markdown",
   "metadata": {},
   "source": []
  }
 ],
 "metadata": {
  "kernelspec": {
   "display_name": "env",
   "language": "python",
   "name": "python3"
  },
  "language_info": {
   "codemirror_mode": {
    "name": "ipython",
    "version": 3
   },
   "file_extension": ".py",
   "mimetype": "text/x-python",
   "name": "python",
   "nbconvert_exporter": "python",
   "pygments_lexer": "ipython3",
   "version": "3.12.3"
  }
 },
 "nbformat": 4,
 "nbformat_minor": 2
}
